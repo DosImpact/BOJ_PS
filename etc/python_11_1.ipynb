{
 "cells": [
  {
   "cell_type": "markdown",
   "metadata": {},
   "source": [
    "# numpy\n",
    "\n",
    "# Numpy numercial python 개요\n",
    "\t- 파이썬에서 선형대수 기반의 프로그램을 쉽게 만드는 라이브러리\n",
    "\t- 반복문 없이 대량의 데이터의 배열 연산가능 > 심지어 빠른 배열 연산 속도 보장.\n",
    "- 대량의 데이터 기반의 과학 및 공학에서 빠른 계산 가능, C/C++ 같은 저수준의 언어 - 기반의 호환 API 제공"
   ]
  },
  {
   "cell_type": "code",
   "execution_count": 14,
   "metadata": {},
   "outputs": [
    {
     "output_type": "stream",
     "name": "stdout",
     "text": "[ 7  2  9 10]\n<class 'numpy.ndarray'>\n1\n(4,)\n[[ 5.  23.  45. ]\n [ 2.1  2.   3. ]]\n2\n(2, 3)\n[[[ 1.    2.    3.  ]\n  [ 4.    5.    0.16]\n  [ 7.    8.    9.  ]]\n\n [[11.   12.   13.  ]\n  [14.   15.   16.  ]\n  [17.   18.   19.  ]]]\n3\n(2, 3, 3)\nfloat64\n"
    }
   ],
   "source": [
    "import numpy as np\n",
    "\n",
    "\n",
    "\n",
    "# 1차원 배열 만들기 | 타입,차원,shape확인array1 = np.array([7, 2, 9, 10])\n",
    "print(array1)  # [ 7  2  9 10]\n",
    "print(type(array1))\n",
    "print(array1.ndim)  # 1 1차원이다.\n",
    "print(array1.shape)  # (4,)  4개의 원소\n",
    "\n",
    "array2 = np.array([[5, 23, 45], [2.1, 2, 3]])\n",
    "print(array2)\n",
    "print(array2.ndim)  # 2차원이다.\n",
    "print(array2.shape)  # (2,3) 2개의 원소 , 각각에는 3개의 원소\n",
    "\n",
    "array3 = np.array([\n",
    "    [[1, 2, 3], [4, 5, .16], [7, 8, 9]], [[11, 12, 13], [14, 15, 16], [17, 18, 19]]])\n",
    "print(array3)\n",
    "print(array3.ndim)  # 3  3차원이다.\n",
    "print(array3.shape)  # (2, 3, 3) 2 개의 원소 , 각각에는 3개의 원소, 그 속에는 3개의 원소\n",
    "print(array3.dtype)  # float64"
   ]
  },
  {
   "cell_type": "markdown",
   "metadata": {},
   "source": [
    "# 타입\n",
    "\n",
    "- ndarray 내의 데이터값은 숫자,문자,불값 다 가능\n",
    "- int (8,16,32)bit, unsigned int (8,16,32)bit, float (16,32,64)bit\n",
    "- ndarray\n"
   ]
  },
  {
   "cell_type": "code",
   "execution_count": 5,
   "metadata": {},
   "outputs": [
    {
     "output_type": "stream",
     "name": "stdout",
     "text": "[1. 2. 3.] float64\n[1 2 3] int32\n"
    }
   ],
   "source": [
    "\n",
    "# ndarray - 타입 지정\n",
    "\n",
    "arr1 = np.array([1, 2, 3], dtype=np.float64)\n",
    "arr2 = np.array([1, 2, 3], dtype=np.int)\n",
    "print(arr1, arr1.dtype)\n",
    "print(arr2, arr2.dtype)\n"
   ]
  },
  {
   "cell_type": "code",
   "execution_count": 6,
   "metadata": {},
   "outputs": [
    {
     "output_type": "stream",
     "name": "stdout",
     "text": "int32 float64\n"
    }
   ],
   "source": [
    "\n",
    "# 타입 변환 -> 메모리절약을 위해 주로 사용 astype\n",
    "\n",
    "\n",
    "array_int = np.array([1, 2, 3, ])\n",
    "array_float = array1.astype('float64')\n",
    "print(array_int.dtype, array_float.dtype)  # int32 float64"
   ]
  },
  {
   "cell_type": "code",
   "execution_count": 8,
   "metadata": {},
   "outputs": [
    {
     "output_type": "stream",
     "name": "stdout",
     "text": "21\n[5 7 9]\n[ 6 15]\n"
    }
   ],
   "source": [
    "\n",
    "# axis 기반 연산 -sum\n",
    "\n",
    "arr3 = np.array([[1, 2, 3], [4, 5, 6]])\n",
    "print(arr3.sum())\n",
    "print(arr3.sum(axis=0))  # [5 7 9]\n",
    "print(arr3.sum(axis=1))  # [ 6 15]"
   ]
  },
  {
   "cell_type": "code",
   "execution_count": 9,
   "metadata": {},
   "outputs": [
    {
     "output_type": "stream",
     "name": "stdout",
     "text": "[0 1 2 3 4 5 6 7 8 9]\n[[0 0 0]\n [0 0 0]\n [0 0 0]\n [0 0 0]]\n[[1 1 1]\n [1 1 1]\n [1 1 1]\n [1 1 1]]\n"
    }
   ],
   "source": [
    "\n",
    "# ndarray 편리한 생성 : arrange, zeros, ones\n",
    "\n",
    "# arrange(): 연속값을 요소로 가지는 ndarray 생성\n",
    "# zeros(): 0으로 초기화된 ndarray 생성\n",
    "# ones(): 1으로 초기화된 ndarray 생성\n",
    "\n",
    "arr4 = np.arange(10)  # 0부터 9까지 들어감\n",
    "print(arr4)  # [0 1 2 3 4 5 6 7 8 9]\n",
    "arr5 = np.zeros((4, 3), dtype='int32')\n",
    "print(arr5)  # 4개원소 각각 3개의 원소가, 있어, 다 0이야.\n",
    "arr6 = np.ones((4, 3), dtype='int32')\n",
    "print(arr6)  # 4개원소 각각 3개의 원소가, 있어, 다 1이야."
   ]
  },
  {
   "cell_type": "code",
   "execution_count": 10,
   "metadata": {},
   "outputs": [
    {
     "output_type": "stream",
     "name": "stdout",
     "text": "[0 1 2 3 4 5 6 7 8 9]\n[[0 1 2 3 4]\n [5 6 7 8 9]]\n[[0 1]\n [2 3]\n [4 5]\n [6 7]\n [8 9]]\n[[0 1 2 3 4]\n [5 6 7 8 9]]\n[[0 1]\n [2 3]\n [4 5]\n [6 7]\n [8 9]]\n[[0]\n [1]\n [2]\n [3]\n [4]\n [5]\n [6]\n [7]\n [8]\n [9]]\n[0 1 2 3 4 5 6 7 8 9]\n"
    }
   ],
   "source": [
    "\n",
    "# ndarray - 차원 크기 변경 : reshape()\n",
    "\n",
    "\n",
    "arr7 = np.arange(10)\n",
    "print(arr7)\n",
    "arr7 = arr7.reshape(2, 5)\n",
    "\"\"\"\n",
    "[[0 1 2 3 4]\n",
    " [5 6 7 8 9]]\n",
    "\"\"\"\n",
    "print(arr7)\n",
    "arr7 = arr7.reshape(5, 2)\n",
    "print(arr7)\n",
    "\"\"\"\n",
    "[[0 1]\n",
    " [2 3]\n",
    " [4 5]\n",
    " [6 7]\n",
    " [8 9]]\n",
    "\"\"\"\n",
    "\n",
    "arr7 = arr7.reshape(-1, 5)  # 몇개의 덩어든, 5개씩 묶어.\n",
    "print(arr7)\n",
    "\"\"\"\n",
    "[[0 1 2 3 4]\n",
    " [5 6 7 8 9]]\n",
    "\"\"\"\n",
    "arr7 = arr7.reshape(5, -1)  # 5개의 덩어리도 만들어, 몇개씩 들어있는지는 몰라.\n",
    "print(arr7)\n",
    "\"\"\"\n",
    "[[0 1]\n",
    " [2 3]\n",
    " [4 5]\n",
    " [6 7]\n",
    " [8 9]]\n",
    "\"\"\"\n",
    "arr7 = arr7.reshape(-1, 1) \n",
    "print(arr7)\n",
    "\"\"\"\n",
    "[[0]\n",
    " [1]\n",
    " [2]\n",
    " [3]\n",
    " [4]\n",
    " [5]\n",
    " [6]\n",
    " [7]\n",
    " [8]\n",
    " [9]]\n",
    "\"\"\"\n",
    "arr7 = arr7.reshape(-1, )  # flatten\n",
    "print(arr7)  # [0 1 2 3 4 5 6 7 8 9]\n"
   ]
  },
  {
   "cell_type": "code",
   "execution_count": null,
   "metadata": {},
   "outputs": [],
   "source": []
  },
  {
   "cell_type": "code",
   "execution_count": null,
   "metadata": {},
   "outputs": [],
   "source": []
  },
  {
   "cell_type": "code",
   "execution_count": null,
   "metadata": {},
   "outputs": [],
   "source": []
  }
 ],
 "metadata": {
  "language_info": {
   "codemirror_mode": {
    "name": "ipython",
    "version": 3
   },
   "file_extension": ".py",
   "mimetype": "text/x-python",
   "name": "python",
   "nbconvert_exporter": "python",
   "pygments_lexer": "ipython3",
   "version": "3.6.10-final"
  },
  "orig_nbformat": 2,
  "kernelspec": {
   "name": "python361064bitalldeepcondaa8f1562618a541b09d020e5341ecd72c",
   "display_name": "Python 3.6.10 64-bit ('alldeep': conda)"
  }
 },
 "nbformat": 4,
 "nbformat_minor": 2
}