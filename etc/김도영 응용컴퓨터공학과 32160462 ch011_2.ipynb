{
 "cells": [
  {
   "cell_type": "markdown",
   "metadata": {},
   "source": [
    "\n",
    "\n",
    "# ndarray - 인덱싱 ( indexing )\n",
    "\n",
    "특정 위치 단일값, 슬라이싱 , 펜시 인덱싱, 불린 인덱싱\n",
    "\n",
    "\n",
    "\n"
   ]
  },
  {
   "cell_type": "code",
   "execution_count": 4,
   "metadata": {},
   "outputs": [
    {
     "output_type": "stream",
     "name": "stdout",
     "text": "1 2 3\n4 3\n[99  2  3  4]\n[[1 2 3]\n [4 5 6]\n [7 8 9]]\n1 2 3 4 6\n"
    }
   ],
   "source": [
    "\n",
    "\n",
    "# 특정 위치 읽기, 쓰기\n",
    "\n",
    "import numpy as np\n",
    "\n",
    "arr = np.array([1, 2, 3, 4])\n",
    "print(arr[0], arr[1], arr[2])  # 1 2 3\n",
    "print(arr[-1], arr[-2])  # 4 3\n",
    "arr[0] = 99\n",
    "print(arr)  # [99  2  3  4]\n",
    "\n",
    "barr = np.arange(start=1, stop=10)\n",
    "arr = barr.reshape(3, 3)  # reshape, 1 depth 추가\n",
    "print(arr)\n",
    "print(arr[0, 0], arr[0, 1], arr[0, 2], arr[1, 0], arr[1, 2])  # 1 2 3 4 6\n"
   ]
  },
  {
   "cell_type": "code",
   "execution_count": 7,
   "metadata": {},
   "outputs": [
    {
     "output_type": "stream",
     "name": "stdout",
     "text": "[3 4]\n[[ 1  2  3  4]\n [ 6  7  8  9]\n [11 12 13 14]]\n[[1 2]\n [6 7]]\n[[13 14]]\n[[ 6  7  8  9]\n [11 12 13 14]]\n"
    }
   ],
   "source": [
    "\n",
    "\n",
    "# array - 슬라이싱  읽기, 쓰기\n",
    "\n",
    "import numpy as np\n",
    "\n",
    "# 1차원 슬라이싱\n",
    "arr = np.array([1, 2, 3, 4])\n",
    "print(arr[2:])  # [3 4]\n",
    "\n",
    "\n",
    "# 2차원 슬라이싱\n",
    "arr = np.array(\n",
    "    [\n",
    "        [1, 2, 3, 4, ],\n",
    "        [6, 7, 8, 9, ],\n",
    "        [11, 12, 13, 14]\n",
    "    ]\n",
    ")\n",
    "\n",
    "print(arr)\n",
    "# 우선 1축 2번째 까지만 컷팅, 2축 도\n",
    "print(arr[:2, :2])\n",
    "# 1축 2부터 컷팅, 2축도\n",
    "print(arr[2:, 2:])\n",
    "#\n",
    "print(arr[1:, :])\n"
   ]
  },
  {
   "cell_type": "markdown",
   "metadata": {},
   "source": [
    "# arr[ TYPE = 정수,불리언,:,[] ]\n",
    "- 정수 : 단일값\n",
    "- : 슬라이싱\n",
    "- [] 특정 인덱스 추출 펜시인덱싱\n",
    "- 블리언 : 조건값\n"
   ]
  },
  {
   "cell_type": "code",
   "execution_count": 6,
   "metadata": {},
   "outputs": [
    {
     "output_type": "stream",
     "name": "stdout",
     "text": "[1 2 3 4]\n[2 4]\n[[1 2 3]\n [4 5 6]\n [7 8 9]]\n[[1 2 3]\n [7 8 9]]\n[2 8]\n[[1 2 3]\n [7 8 9]]\n[[2]\n [8]]\n"
    }
   ],
   "source": [
    "# 팬디 인덱싱\n",
    "\n",
    "# 내가 원하는 인덱스를 선택해서 묶는다.\n",
    "\n",
    "import numpy as np\n",
    "\n",
    "\n",
    "arr = np.array([1, 2, 3, 4])\n",
    "print(arr)\n",
    "print(arr[[1, 3]])  # 1번과, 3번 인덱스만들 골라서 가져옴\n",
    "\n",
    "arr = np.array([\n",
    "    [1, 2, 3],\n",
    "    [4, 5, 6],\n",
    "    [7, 8, 9]\n",
    "])\n",
    "print(arr)\n",
    "\n",
    "print(arr[[0, 2]])\n",
    "\n",
    "print(arr[[0, 2], 1])\n",
    "\"\"\"\n",
    "[2 8]\n",
    "\"\"\"\n",
    "print(arr[[0, 2], :])\n",
    "\"\"\"\n",
    "[[1 2 3]\n",
    " [7 8 9]]\n",
    "\"\"\"\n",
    "print(arr[[0, 2], 1:2])\n",
    "\"\"\"\n",
    "[[2]\n",
    " [8]]\n",
    "\"\"\"\n"
   ]
  },
  {
   "cell_type": "code",
   "execution_count": 9,
   "metadata": {},
   "outputs": [
    {
     "output_type": "stream",
     "name": "stdout",
     "text": "[False False False  True  True]\n[4 5]\n[4 5]\n[4 5]\n"
    }
   ],
   "source": [
    "# 블리언 인덱싱\n",
    "\n",
    "import numpy as np\n",
    "\n",
    "arr = np.array([1, 2, 3, 4, 5])\n",
    "\n",
    "print(arr > 3)  # [False False False  True  True]\n",
    "\n",
    "print(arr[[False, False, False,  True, True]])  # [4 5]\n",
    "\n",
    "\n",
    "print(arr[arr > 3])  # [4 5]\n",
    "\n",
    "# arr[ TYPE = 정수,불리언,:,[] ]\n",
    "# 정수 : 단일값\n",
    "# : 슬라이싱\n",
    "# [] 특정 인덱스 추출 펜시인덱싱\n",
    "# 블리언 : 조건값\n",
    "\n",
    "\n",
    "print(arr[[3, 4]])  # [4 5]\n"
   ]
  },
  {
   "cell_type": "markdown",
   "metadata": {},
   "source": [
    "# 넘파이 sort()유형\n",
    "\n",
    "- np.sort() 원본 유지, 정렬된 배열 반환\n",
    "- ndarray.sort()  원본 자체를 정렬한다"
   ]
  },
  {
   "cell_type": "code",
   "execution_count": null,
   "metadata": {},
   "outputs": [],
   "source": [
    "\n",
    "import time\n",
    "import numpy as np\n",
    "\n",
    "f\"\"\"\n",
    "넘파이 sort()유형\n",
    "\n",
    "- np.sort() 원본 유지, 정렬된 배열 반환\n",
    "- ndarray.sort()  원본 자체를 정렬한다\n",
    "\"\"\"\n",
    "arr = np.array([4, 2, 1, 9])\n",
    "print(arr)  # [4 2 1 9]\n",
    "\n",
    "arr_sorted = np.sort(arr)\n",
    "print(arr_sorted)  # [1 2 4 9]\n",
    "print(arr)  # [4 2 1 9]\n",
    "\n",
    "\n",
    "arr.sort()\n",
    "print(arr)  # [1 2 4 9]\n",
    "\n"
   ]
  },
  {
   "cell_type": "markdown",
   "metadata": {},
   "source": [
    "# 내림차순으로 정렬하기"
   ]
  },
  {
   "cell_type": "code",
   "execution_count": null,
   "metadata": {},
   "outputs": [],
   "source": [
    "# 내림차순으로 정렬하기\n",
    "\n",
    "arr2 = np.array([6, 1, 4, 2, 699, 3])\n",
    "arr2_rev = np.sort(arr2)[::-1]\n",
    "print(arr2_rev)  # [699   6   4   3   2   1]\n",
    "\n"
   ]
  },
  {
   "cell_type": "markdown",
   "metadata": {},
   "source": [
    "# axis 기반의 sort()"
   ]
  },
  {
   "cell_type": "code",
   "execution_count": null,
   "metadata": {},
   "outputs": [],
   "source": [
    "# axis 기반의 sort()\n",
    "arr3 = np.array([\n",
    "    [8, 12],\n",
    "    [7, 1]\n",
    "])\n",
    "print(np.sort(arr3, axis=0))  # 축 1차, 로 정렬  |\n",
    "print(np.sort(arr3, axis=1))  # 축 2차, 로 정렬  ㅡ\n",
    "\n"
   ]
  },
  {
   "cell_type": "markdown",
   "metadata": {},
   "source": [
    "# argsort() : 원본 행렬 정렬시, 원래 행렬의 인덱스가 필요할때\n"
   ]
  },
  {
   "cell_type": "code",
   "execution_count": null,
   "metadata": {},
   "outputs": [],
   "source": [
    "# argsort() : 원본 행렬 정렬시, 원래 행렬의 인덱스가 필요할때\n",
    "\n",
    "org_arr = np.array([3, 1, 9, 5])\n",
    "print(np.sort(org_arr))  # [1 3 5 9]\n",
    "\n",
    "sort_indices = np.argsort(org_arr)\n",
    "print(\"행렬 정렬시 원본 행렬의 인덱스\", sort_indices)  # [1 0 3 2]\n",
    "print(org_arr)  # [1 3 5 9]\n",
    "print(org_arr[[1, 0, 3, 2]])  # [1 3 5 9]\n",
    "print(org_arr[sort_indices])  # [1 3 5 9]\n"
   ]
  },
  {
   "cell_type": "markdown",
   "metadata": {},
   "source": [
    "# key -value 형태의 데이터를 가지고 정렬하기"
   ]
  },
  {
   "cell_type": "code",
   "execution_count": null,
   "metadata": {},
   "outputs": [],
   "source": [
    "# key -value 형태의 데이터를 가지고 정렬하기\n",
    "\n",
    "\n",
    "name_arr = np.array(['jojn', 'mkei', 'srahc', 'kata', 'sameul'])\n",
    "score_arr = np.array([78, 15, 64, 88, 48])\n",
    "\n",
    "sort_indices = np.argsort(score_arr)\n",
    "print(\"sort_idx\", sort_indices)\n",
    "name_rank_arr = name_arr[sort_indices]\n",
    "print(name_rank_arr)  # ['mkei' 'sameul'  'srahc' 'jojn' 'kata']\n",
    "print(name_rank_arr[::-1])  # ['kata' 'jojn' 'srahc' 'sameul' 'mkei']\n"
   ]
  },
  {
   "cell_type": "markdown",
   "metadata": {},
   "source": [
    "# Numpy 응용"
   ]
  },
  {
   "cell_type": "code",
   "execution_count": null,
   "metadata": {},
   "outputs": [],
   "source": [
    "# Numpy 응용\n",
    "\"\"\"\n",
    "- 행렬 내적 : np.dot(A,B)\n",
    "- 전치 행렬 : np.transpose(A)\n",
    "-\n",
    "\"\"\"\n",
    "\n",
    "A = np.array([[1, 2, 3, ], [4, 5, 6]])\n",
    "B = np.array([[7, 8], [9, 10], [11, 12]])\n",
    "print(np.dot(A, B))\n",
    "\"\"\"\n",
    "[[ 58  64]\n",
    " [139 154]]\n",
    "\"\"\"\n",
    "transpose = np.transpose(A)\n",
    "print(transpose)\n",
    "\"\"\"\n",
    "[[1 4]\n",
    " [2 5]\n",
    " [3 6]]\n",
    "\"\"\"\n",
    "\n"
   ]
  },
  {
   "cell_type": "markdown",
   "metadata": {},
   "source": [
    "# 백터화 연산 : for문 미사용"
   ]
  },
  {
   "cell_type": "code",
   "execution_count": null,
   "metadata": {},
   "outputs": [],
   "source": [
    "# 백터화 연산 : for문 미사용\n",
    "\n",
    "cvalues = [25.3, 42.8, 26.9]\n",
    "C = np.array(cvalues)\n",
    "print(C)\n",
    "F = C*9/5+32\n",
    "# <class 'numpy.ndarray'> [ 77.54 109.04  80.42]\n",
    "print(type(F), F)\n",
    "\n",
    "F1 = [x*9/5+32 for x in cvalues]\n",
    "# <class 'numpy.ndarray'> [77.54, 109.03999999999999, 80.42]\n",
    "print(type(F), F1)\n"
   ]
  },
  {
   "cell_type": "markdown",
   "metadata": {},
   "source": [
    "# list와 ndarray 계산 성능\n",
    "- 100배 차이?!\n",
    "- np.array에서 for문을 돌리면 오히려 느리다."
   ]
  },
  {
   "cell_type": "code",
   "execution_count": 10,
   "metadata": {},
   "outputs": [
    {
     "output_type": "stream",
     "name": "stdout",
     "text": "time :  2.671229600906372\n"
    }
   ],
   "source": [
    "import time\n",
    "\n",
    "size_of_vec = 10000000\n",
    "X = list(range(size_of_vec))\n",
    "Y = list(range(size_of_vec))\n",
    "Z = list(range(size_of_vec))\n",
    "\n",
    "start = time.time()\n",
    "for i in range(len(X)):\n",
    "    Z[i] = X[i] + Y[i]\n",
    "print(\"time : \", time.time()-start)\n"
   ]
  },
  {
   "cell_type": "code",
   "execution_count": 11,
   "metadata": {},
   "outputs": [
    {
     "output_type": "stream",
     "name": "stdout",
     "text": "time :  0.02100348472595215\n"
    }
   ],
   "source": [
    "import numpy as numpy\n",
    "import time\n",
    "\n",
    "size_of_vec = 10000000\n",
    "X = np.arange(size_of_vec)\n",
    "Y = np.arange(size_of_vec)\n",
    "\n",
    "start = time.time()\n",
    "Z = X + Y\n",
    "print(\"time : \", time.time()-start)"
   ]
  },
  {
   "cell_type": "code",
   "execution_count": 12,
   "metadata": {},
   "outputs": [
    {
     "output_type": "stream",
     "name": "stdout",
     "text": "time :  6.430346250534058\n"
    }
   ],
   "source": [
    "import numpy as numpy\n",
    "import time\n",
    "\n",
    "size_of_vec = 10000000\n",
    "X = np.arange(size_of_vec)\n",
    "Y = np.arange(size_of_vec)\n",
    "Z = np.zeros(size_of_vec)\n",
    "\n",
    "start = time.time()\n",
    "for i in range(len(X)):\n",
    "    Z[i] = X[i]+Y[i]\n",
    "print(\"time : \", time.time()-start)"
   ]
  },
  {
   "cell_type": "code",
   "execution_count": null,
   "metadata": {},
   "outputs": [],
   "source": []
  }
 ],
 "metadata": {
  "language_info": {
   "codemirror_mode": {
    "name": "ipython",
    "version": 3
   },
   "file_extension": ".py",
   "mimetype": "text/x-python",
   "name": "python",
   "nbconvert_exporter": "python",
   "pygments_lexer": "ipython3",
   "version": "3.6.10-final"
  },
  "orig_nbformat": 2,
  "kernelspec": {
   "name": "python361064bitalldeepcondaa8f1562618a541b09d020e5341ecd72c",
   "display_name": "Python 3.6.10 64-bit ('alldeep': conda)"
  }
 },
 "nbformat": 4,
 "nbformat_minor": 2
}